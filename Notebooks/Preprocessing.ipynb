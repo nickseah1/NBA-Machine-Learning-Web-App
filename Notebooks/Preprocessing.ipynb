{
 "cells": [
  {
   "cell_type": "code",
   "execution_count": 1,
   "id": "cd3cc664",
   "metadata": {},
   "outputs": [],
   "source": [
    "import pandas as pd\n",
    "import matplotlib.pyplot as plt\n",
    "import numpy as np\n",
    "import sklearn\n",
    "import seaborn as sns"
   ]
  },
  {
   "cell_type": "code",
   "execution_count": 2,
   "id": "3e89e015",
   "metadata": {},
   "outputs": [],
   "source": [
    "# Load in the Data\n",
    "df_20 = pd.read_csv('stats.csv',header = 1).drop(['RANK','TEAM','POS','AGE','GP','FTA','2PA','3PA'],axis = 1)\n",
    "df_19 = pd.read_csv('2019-2020.csv',header = 1).drop(['RANK','TEAM','POS','AGE','GP','FTA','2PA','3PA'],axis = 1)\n",
    "df_18 = pd.read_csv('2018-2019.csv',header = 1).drop(['RANK','TEAM','POS','AGE','GP','FTA','2PA','3PA'],axis = 1)\n",
    "\n",
    "df_20.columns = ['Name','MPG','MIN%','USG%','TO%','FT%','2P%','3P%','eFG%','TS%','PPG','RPG','TRB%','APG','AST%','SPG','BPG','TOPG','VI','ORTG','DRTG']\n",
    "df_19.columns = ['Name','MPG','MIN%','USG%','TO%','FT%','2P%','3P%','eFG%','TS%','PPG','RPG','TRB%','APG','AST%','SPG','BPG','TOPG','VI','ORTG','DRTG']\n",
    "df_18.columns = ['Name','MPG','MIN%','USG%','TO%','FT%','2P%','3P%','eFG%','TS%','PPG','RPG','TRB%','APG','AST%','SPG','BPG','TOPG','VI','ORTG','DRTG']"
   ]
  },
  {
   "cell_type": "code",
   "execution_count": 3,
   "id": "bb8eb20f",
   "metadata": {},
   "outputs": [],
   "source": [
    "df_20.sort_values(['PPG','APG'],ascending= False)\n",
    "df_20.dropna(subset = ['ORTG','DRTG','eFG%','TO%','TS%'], inplace = True)\n",
    "df_19.sort_values(['PPG','APG'],ascending= False)\n",
    "df_19.dropna(subset = ['ORTG','DRTG','eFG%','TO%','TS%'], inplace = True)\n",
    "df_18.sort_values(['PPG','APG'],ascending= False)\n",
    "df_18.dropna(subset = ['ORTG','DRTG','eFG%','TO%','TS%'], inplace = True)"
   ]
  },
  {
   "cell_type": "code",
   "execution_count": 4,
   "id": "032c8233",
   "metadata": {},
   "outputs": [],
   "source": [
    "df_20 = df_20.groupby('Name',as_index=False).agg(np.mean)\n",
    "df_19 = df_19.groupby('Name',as_index = False).agg(np.mean)\n",
    "df_18 = df_18.groupby('Name',as_index = False).agg(np.mean)\n",
    "\n",
    "# List with all stars\n",
    "all_stars_20 =['Kevin Durant','Bradley Beal','Kyrie Irving','Kawhi Leonard','Jayson Tatum','Zion Williamson','Mike Conley','James Harden','Zach LaVine','Donovan Mitchell','Julius Randle','Nikola Vucevic','Devin Booker','Anthony Davis','Joel Embiid','LeBron James','Giannis Antetokounmpo','Stephen Curry','Luka Doncic','Nikola Jokic','Jaylen Brown','Paul George','Rudy Gobert','Damian Lillard','Domantas Sabonis','Chris Paul','Ben Simmons']\n",
    "all_stars_19 = ['Kemba Walker','Trae Young','Giannis Antetokounmpo', 'Pascal Siakam','Joel Embiid','Kyle Lowry','Ben Simmons','Jimmy Butler','Khris Middleton','Bam Adebayo','Jayson Tatum','Domantas Sabonis','James Harden','Luka Doncic','LeBron James','Kawhi Leonard','Anthony Davis','Chris Paul','Russell Westbrook','Damian Lillard','Donovan Mitchell','Brandon Ingram', 'Nikola Jokic','Rudy Gobert','Devin Booker']\n",
    "all_stars_18 = ['Kemba Walker','Kyrie Irving','Kawhi Leonard','Giannis Antetokounmpo','Joel Embiid','Kyle Lowry','Victor Oladipo','Khris Middleton','Bradley Beal','Ben Simmons','Blake Griffin','Nikola Vucevic','Dwyane Wade',\"D'Angelo Russell\",'Stephen Curry', 'James Harden','Kevin Durant','Paul George','LeBron James','Russell Westbrook','Damian Lillard','Klay Thompson','Anthony Davis','LaMarcus Aldridge','Nikola Jokic','Karl-Anthony Towns','Dirk Nowitzki']\n",
    "\n",
    "# Creating an All star Column\n",
    "df_20['Allstar'] = df_20.apply(lambda x: x['Name'] in all_stars_20, axis = 1)\n",
    "df_19['Allstar'] = df_19.apply(lambda x: x['Name'] in all_stars_19, axis = 1)\n",
    "df_18['Allstar'] = df_18.apply(lambda x: x['Name'] in all_stars_18, axis = 1)\n",
    "\n",
    "# Encoding target column, 1 = all star 0 = not\n",
    "df_20['Allstar'] = df_20['Allstar'].astype(int)\n",
    "df_19['Allstar'] = df_19['Allstar'].astype(int)\n",
    "df_18['Allstar'] = df_18['Allstar'].astype(int)"
   ]
  },
  {
   "cell_type": "code",
   "execution_count": 5,
   "id": "6f9222be",
   "metadata": {},
   "outputs": [],
   "source": [
    "df = pd.concat([df_20,df_19,df_18], axis = 0, ignore_index= True)"
   ]
  },
  {
   "cell_type": "code",
   "execution_count": 6,
   "id": "3da7b5f6",
   "metadata": {},
   "outputs": [],
   "source": [
    "df = df[['PPG','RPG','APG','SPG','BPG','Allstar']]\n",
    "df.to_csv('Clean_df.csv',index = False)"
   ]
  },
  {
   "cell_type": "code",
   "execution_count": null,
   "id": "59dd6465",
   "metadata": {},
   "outputs": [],
   "source": []
  }
 ],
 "metadata": {
  "kernelspec": {
   "display_name": "Python 3",
   "language": "python",
   "name": "python3"
  },
  "language_info": {
   "codemirror_mode": {
    "name": "ipython",
    "version": 3
   },
   "file_extension": ".py",
   "mimetype": "text/x-python",
   "name": "python",
   "nbconvert_exporter": "python",
   "pygments_lexer": "ipython3",
   "version": "3.8.8"
  }
 },
 "nbformat": 4,
 "nbformat_minor": 5
}
